{
 "cells": [
  {
   "cell_type": "markdown",
   "metadata": {},
   "source": [
    "## IMPLEMENTATION PLAN:\n",
    "The implementation workflow for this project is as follows:\n",
    "\n",
    "\n",
    "\n",
    "\n",
    "\n"
   ]
  },
  {
   "cell_type": "markdown",
   "metadata": {},
   "source": [
    "## PSEUDOCODE:\n",
    "\n",
    "__PART 0__\n",
    "\n",
    "* CREATE game_board = [1, 2, 3, 4, 5, 6, 7, 8, 9]\n",
    "* CREATE exclusion_list = [1, 2, 3, 4, 5, 6, 7, 8, 9] #to make sure players don't overwrite the others\n",
    "* CREATE turn_counter = [...] #to determine whose turn it is and who has won<\n",
    "* OUTPUT game_board\n",
    "\n",
    "__PART 1__ \n",
    "\n",
    "* OUTPUT \"Player 1 it's your turn. \n",
    "* You are X. To place your X, pick a number on the board.\"\n",
    "* INPUT player1 enters a number between 1-9\n",
    "* IF number in exclusion_list\n",
    "* OUTPUT \"Please chose a different number.\"\n",
    "* ELSE\n",
    "* ADD 1 to turn_counter\n",
    "* GAME PLACES X game_board[num - 1] = \"X\"\n",
    "* STORE number in exclusion_list\n",
    "* OUTPUT game_board\n",
    "\n",
    "__PART 2__\n",
    "\n",
    "* CHECK if row, column or diagonal has three of the same symbol\n",
    "* IF one returns TRUE\n",
    "* END game (break), def winner - if turn_count % 2 != 0 -> player1, else player2\n",
    "* OUTPUT \"(Winner) has won the game\"\n",
    "* ELIF \n",
    "* CHECK if len(exclusion_list)==9\n",
    "* END game (break), \n",
    "* OUTPUT \"It's a draw.\"\n",
    "* ELSE continue with next player\n",
    "\n",
    "__PART 3__\n",
    "\n",
    "* OUTPUT \"Player 2 it's your turn. \n",
    "* You are O. To place your O, pick a number on the board.\"\n",
    "* INPUT player2 enters a number between 1-9\n",
    "* IF number in exclusion_list\n",
    "* OUTPUT \"Please chose a different number.\"\n",
    "* ELSE \n",
    "* ADD 1 to turn_counter\n",
    "* GAME PLACES X game_board[num - 1] = \"O\"\n",
    "* STORE number in exclusion_list\n",
    "* OUTPUT game_board\n",
    "\n",
    "__REPEAT PARTS 1-3 UNTIL PART 2 breaks__\n",
    "\n",
    "\n",
    "\n",
    "\n",
    "\n",
    "[1,2,3] game_board[0] == game_board[1] == game_board[2] -> TRUE\n",
    "[4,5,6]\n",
    "[7,8,9]\n",
    "[1,4,7]\n",
    "[2,5,8]\n",
    "[3,6,9]\n",
    "[1,5,9]\n",
    "[3,5,7]\n",
    "\n"
   ]
  },
  {
   "cell_type": "markdown",
   "metadata": {},
   "source": [
    "__IMPLEMENTATION PLAN:__\n",
    "The implementation workflow for this project is as follows\n"
   ]
  }
 ],
 "metadata": {
  "interpreter": {
   "hash": "77158e91396e51be217eb11e195cd7b1113765eef9992049ddf7650748288b29"
  },
  "kernelspec": {
   "display_name": "Python 3.8.5 64-bit ('nf_base': conda)",
   "language": "python",
   "name": "python3"
  },
  "language_info": {
   "codemirror_mode": {
    "name": "ipython",
    "version": 3
   },
   "file_extension": ".py",
   "mimetype": "text/x-python",
   "name": "python",
   "nbconvert_exporter": "python",
   "pygments_lexer": "ipython3",
   "version": "3.8.5"
  },
  "orig_nbformat": 4
 },
 "nbformat": 4,
 "nbformat_minor": 2
}
